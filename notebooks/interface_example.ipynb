{
 "cells": [
  {
   "cell_type": "code",
   "execution_count": 1,
   "metadata": {},
   "outputs": [
    {
     "name": "stdout",
     "output_type": "stream",
     "text": [
      "The autoreload extension is already loaded. To reload it, use:\n",
      "  %reload_ext autoreload\n"
     ]
    }
   ],
   "source": [
    "%load_ext autoreload                                                                                                                \n",
    "%autoreload 2"
   ]
  },
  {
   "cell_type": "code",
   "execution_count": 2,
   "metadata": {},
   "outputs": [],
   "source": [
    "import logging\n",
    "logging.basicConfig(level=logging.INFO)"
   ]
  },
  {
   "cell_type": "code",
   "execution_count": 3,
   "metadata": {},
   "outputs": [],
   "source": [
    "from smac.scenario.scenario import Scenario\n",
    "from smac.facade.smac_facade import SMAC"
   ]
  },
  {
   "cell_type": "code",
   "execution_count": 4,
   "metadata": {},
   "outputs": [
    {
     "name": "stdout",
     "output_type": "stream",
     "text": [
      "/home/biedenka/git/pimp/examples/branin\n"
     ]
    }
   ],
   "source": [
    "cd ../examples/branin"
   ]
  },
  {
   "cell_type": "code",
   "execution_count": null,
   "metadata": {},
   "outputs": [
    {
     "name": "stderr",
     "output_type": "stream",
     "text": [
      "INFO:smac.scenario.scenario.Scenario:Reading scenario file: branin_scenario.txt\n",
      "INFO:smac.scenario.scenario.Scenario:Output to smac3-output_2018-01-11_18:02:51_161414\n"
     ]
    }
   ],
   "source": [
    "scenario = Scenario('branin_scenario.txt')\n",
    "smac = SMAC(scenario)"
   ]
  },
  {
   "cell_type": "code",
   "execution_count": null,
   "metadata": {
    "scrolled": true
   },
   "outputs": [
    {
     "name": "stderr",
     "output_type": "stream",
     "text": [
      "INFO:smac.intensification.intensification.Intensifier:Challenger (48.4427) is better than incumbent (55.6021) on 1 runs.\n",
      "INFO:smac.intensification.intensification.Intensifier:Changes in incumbent:\n",
      "INFO:smac.intensification.intensification.Intensifier:  x1 : 0.0 -> 3.467956375448974\n",
      "INFO:smac.intensification.intensification.Intensifier:  x2 : 0.0 -> 8.929017509741776\n",
      "INFO:smac.intensification.intensification.Intensifier:Challenger (41.9265) is better than incumbent (48.4427) on 1 runs.\n",
      "INFO:smac.intensification.intensification.Intensifier:Changes in incumbent:\n",
      "INFO:smac.intensification.intensification.Intensifier:  x1 : 3.467956375448974 -> 5.847761203412398\n",
      "INFO:smac.intensification.intensification.Intensifier:  x2 : 8.929017509741776 -> 5.92938331680535\n",
      "INFO:smac.intensification.intensification.Intensifier:Updated estimated cost of incumbent on 1 runs: 41.9265\n",
      "INFO:smac.intensification.intensification.Intensifier:Challenger (37.6226) is better than incumbent (41.9265) on 1 runs.\n",
      "INFO:smac.intensification.intensification.Intensifier:Changes in incumbent:\n",
      "INFO:smac.intensification.intensification.Intensifier:  x1 : 5.847761203412398 -> 8.229570019962312\n",
      "INFO:smac.intensification.intensification.Intensifier:  x2 : 5.92938331680535 -> 7.232114987566182\n",
      "INFO:smac.intensification.intensification.Intensifier:Challenger (22.8288) is better than incumbent (37.6226) on 1 runs.\n",
      "INFO:smac.intensification.intensification.Intensifier:Changes in incumbent:\n",
      "INFO:smac.intensification.intensification.Intensifier:  x1 : 8.229570019962312 -> 3.6523203408759333\n",
      "INFO:smac.intensification.intensification.Intensifier:  x2 : 7.232114987566182 -> 6.5153554865056025\n",
      "INFO:smac.intensification.intensification.Intensifier:Updated estimated cost of incumbent on 1 runs: 22.8288\n",
      "INFO:smac.intensification.intensification.Intensifier:Challenger (19.2671) is better than incumbent (22.8288) on 1 runs.\n",
      "INFO:smac.intensification.intensification.Intensifier:Changes in incumbent:\n",
      "INFO:smac.intensification.intensification.Intensifier:  x1 : 3.6523203408759333 -> 6.016738184169396\n",
      "INFO:smac.intensification.intensification.Intensifier:  x2 : 6.5153554865056025 -> 1.1623988372615472\n",
      "INFO:smac.intensification.intensification.Intensifier:Updated estimated cost of incumbent on 1 runs: 19.2671\n",
      "INFO:smac.intensification.intensification.Intensifier:Updated estimated cost of incumbent on 1 runs: 19.2671\n",
      "INFO:smac.intensification.intensification.Intensifier:Updated estimated cost of incumbent on 1 runs: 19.2671\n",
      "INFO:smac.intensification.intensification.Intensifier:Challenger (18.1946) is better than incumbent (19.2671) on 1 runs.\n",
      "INFO:smac.intensification.intensification.Intensifier:Changes in incumbent:\n",
      "INFO:smac.intensification.intensification.Intensifier:  x1 : 6.016738184169396 -> 1.0391492812963437\n",
      "INFO:smac.intensification.intensification.Intensifier:  x2 : 1.1623988372615472 -> 6.309589285371249\n",
      "INFO:smac.intensification.intensification.Intensifier:Challenger (9.2860) is better than incumbent (18.1946) on 1 runs.\n",
      "INFO:smac.intensification.intensification.Intensifier:Changes in incumbent:\n",
      "INFO:smac.intensification.intensification.Intensifier:  x1 : 1.0391492812963437 -> -3.9182003245156416\n",
      "INFO:smac.intensification.intensification.Intensifier:  x2 : 6.309589285371249 -> 11.742364690228506\n",
      "INFO:smac.intensification.intensification.Intensifier:Updated estimated cost of incumbent on 1 runs: 9.2860\n",
      "INFO:smac.intensification.intensification.Intensifier:Challenger (1.2538) is better than incumbent (9.2860) on 1 runs.\n",
      "INFO:smac.intensification.intensification.Intensifier:Changes in incumbent:\n",
      "INFO:smac.intensification.intensification.Intensifier:  x1 : -3.9182003245156416 -> -2.832980888095045\n",
      "INFO:smac.intensification.intensification.Intensifier:  x2 : 11.742364690228506 -> 10.911391644090386\n",
      "INFO:smac.intensification.intensification.Intensifier:Updated estimated cost of incumbent on 1 runs: 1.2538\n",
      "INFO:smac.intensification.intensification.Intensifier:Updated estimated cost of incumbent on 1 runs: 1.2538\n",
      "INFO:smac.intensification.intensification.Intensifier:Updated estimated cost of incumbent on 1 runs: 1.2538\n",
      "INFO:smac.intensification.intensification.Intensifier:Updated estimated cost of incumbent on 1 runs: 1.2538\n",
      "INFO:smac.intensification.intensification.Intensifier:Challenger (0.6751) is better than incumbent (1.2538) on 1 runs.\n",
      "INFO:smac.intensification.intensification.Intensifier:Changes in incumbent:\n",
      "INFO:smac.intensification.intensification.Intensifier:  x1 : -2.832980888095045 -> 9.634341064093945\n",
      "INFO:smac.intensification.intensification.Intensifier:  x2 : 10.911391644090386 -> 2.398374297632366\n",
      "INFO:smac.intensification.intensification.Intensifier:Updated estimated cost of incumbent on 1 runs: 0.6751\n",
      "INFO:smac.intensification.intensification.Intensifier:Updated estimated cost of incumbent on 1 runs: 0.6751\n",
      "INFO:smac.intensification.intensification.Intensifier:Updated estimated cost of incumbent on 1 runs: 0.6751\n",
      "INFO:smac.intensification.intensification.Intensifier:Updated estimated cost of incumbent on 1 runs: 0.6751\n",
      "INFO:smac.intensification.intensification.Intensifier:Updated estimated cost of incumbent on 1 runs: 0.6751\n",
      "INFO:smac.intensification.intensification.Intensifier:Updated estimated cost of incumbent on 1 runs: 0.6751\n",
      "INFO:smac.intensification.intensification.Intensifier:Updated estimated cost of incumbent on 1 runs: 0.6751\n",
      "INFO:smac.intensification.intensification.Intensifier:Updated estimated cost of incumbent on 1 runs: 0.6751\n",
      "INFO:smac.intensification.intensification.Intensifier:Updated estimated cost of incumbent on 1 runs: 0.6751\n",
      "INFO:smac.intensification.intensification.Intensifier:Updated estimated cost of incumbent on 1 runs: 0.6751\n",
      "INFO:smac.intensification.intensification.Intensifier:Updated estimated cost of incumbent on 1 runs: 0.6751\n",
      "INFO:smac.intensification.intensification.Intensifier:Updated estimated cost of incumbent on 1 runs: 0.6751\n",
      "INFO:smac.intensification.intensification.Intensifier:Updated estimated cost of incumbent on 1 runs: 0.6751\n",
      "INFO:smac.intensification.intensification.Intensifier:Updated estimated cost of incumbent on 1 runs: 0.6751\n",
      "INFO:smac.intensification.intensification.Intensifier:Updated estimated cost of incumbent on 1 runs: 0.6751\n",
      "INFO:smac.intensification.intensification.Intensifier:Updated estimated cost of incumbent on 1 runs: 0.6751\n",
      "INFO:smac.intensification.intensification.Intensifier:Updated estimated cost of incumbent on 1 runs: 0.6751\n",
      "INFO:smac.intensification.intensification.Intensifier:Updated estimated cost of incumbent on 1 runs: 0.6751\n",
      "INFO:smac.intensification.intensification.Intensifier:Updated estimated cost of incumbent on 1 runs: 0.6751\n",
      "INFO:smac.intensification.intensification.Intensifier:Updated estimated cost of incumbent on 1 runs: 0.6751\n",
      "INFO:smac.intensification.intensification.Intensifier:Updated estimated cost of incumbent on 1 runs: 0.6751\n",
      "INFO:smac.intensification.intensification.Intensifier:Updated estimated cost of incumbent on 1 runs: 0.6751\n",
      "INFO:smac.intensification.intensification.Intensifier:Updated estimated cost of incumbent on 1 runs: 0.6751\n",
      "INFO:smac.intensification.intensification.Intensifier:Updated estimated cost of incumbent on 1 runs: 0.6751\n",
      "INFO:smac.intensification.intensification.Intensifier:Updated estimated cost of incumbent on 1 runs: 0.6751\n",
      "INFO:smac.intensification.intensification.Intensifier:Updated estimated cost of incumbent on 1 runs: 0.6751\n",
      "INFO:smac.intensification.intensification.Intensifier:Updated estimated cost of incumbent on 1 runs: 0.6751\n",
      "INFO:smac.intensification.intensification.Intensifier:Updated estimated cost of incumbent on 1 runs: 0.6751\n",
      "INFO:smac.intensification.intensification.Intensifier:Updated estimated cost of incumbent on 1 runs: 0.6751\n",
      "INFO:smac.intensification.intensification.Intensifier:Updated estimated cost of incumbent on 1 runs: 0.6751\n",
      "INFO:smac.intensification.intensification.Intensifier:Updated estimated cost of incumbent on 1 runs: 0.6751\n",
      "INFO:smac.intensification.intensification.Intensifier:Updated estimated cost of incumbent on 1 runs: 0.6751\n",
      "INFO:smac.intensification.intensification.Intensifier:Updated estimated cost of incumbent on 1 runs: 0.6751\n"
     ]
    },
    {
     "name": "stderr",
     "output_type": "stream",
     "text": [
      "INFO:smac.intensification.intensification.Intensifier:Updated estimated cost of incumbent on 1 runs: 0.6751\n",
      "INFO:smac.intensification.intensification.Intensifier:Updated estimated cost of incumbent on 1 runs: 0.6751\n",
      "INFO:smac.intensification.intensification.Intensifier:Updated estimated cost of incumbent on 1 runs: 0.6751\n",
      "INFO:smac.intensification.intensification.Intensifier:Updated estimated cost of incumbent on 1 runs: 0.6751\n",
      "INFO:smac.intensification.intensification.Intensifier:Updated estimated cost of incumbent on 1 runs: 0.6751\n",
      "INFO:smac.intensification.intensification.Intensifier:Updated estimated cost of incumbent on 1 runs: 0.6751\n",
      "INFO:smac.intensification.intensification.Intensifier:Updated estimated cost of incumbent on 1 runs: 0.6751\n",
      "INFO:smac.intensification.intensification.Intensifier:Updated estimated cost of incumbent on 1 runs: 0.6751\n",
      "INFO:smac.intensification.intensification.Intensifier:Updated estimated cost of incumbent on 1 runs: 0.6751\n",
      "INFO:smac.intensification.intensification.Intensifier:Updated estimated cost of incumbent on 1 runs: 0.6751\n",
      "INFO:smac.intensification.intensification.Intensifier:Updated estimated cost of incumbent on 1 runs: 0.6751\n",
      "INFO:smac.intensification.intensification.Intensifier:Updated estimated cost of incumbent on 1 runs: 0.6751\n",
      "INFO:smac.intensification.intensification.Intensifier:Updated estimated cost of incumbent on 1 runs: 0.6751\n",
      "INFO:smac.intensification.intensification.Intensifier:Updated estimated cost of incumbent on 1 runs: 0.6751\n",
      "INFO:smac.intensification.intensification.Intensifier:Updated estimated cost of incumbent on 1 runs: 0.6751\n",
      "INFO:smac.intensification.intensification.Intensifier:Updated estimated cost of incumbent on 1 runs: 0.6751\n",
      "INFO:smac.intensification.intensification.Intensifier:Updated estimated cost of incumbent on 1 runs: 0.6751\n",
      "INFO:smac.intensification.intensification.Intensifier:Updated estimated cost of incumbent on 1 runs: 0.6751\n",
      "INFO:smac.intensification.intensification.Intensifier:Updated estimated cost of incumbent on 1 runs: 0.6751\n",
      "INFO:smac.intensification.intensification.Intensifier:Updated estimated cost of incumbent on 1 runs: 0.6751\n",
      "INFO:smac.intensification.intensification.Intensifier:Updated estimated cost of incumbent on 1 runs: 0.6751\n",
      "INFO:smac.intensification.intensification.Intensifier:Updated estimated cost of incumbent on 1 runs: 0.6751\n",
      "INFO:smac.intensification.intensification.Intensifier:Updated estimated cost of incumbent on 1 runs: 0.6751\n",
      "INFO:smac.intensification.intensification.Intensifier:Updated estimated cost of incumbent on 1 runs: 0.6751\n",
      "INFO:smac.intensification.intensification.Intensifier:Updated estimated cost of incumbent on 1 runs: 0.6751\n",
      "INFO:smac.intensification.intensification.Intensifier:Updated estimated cost of incumbent on 1 runs: 0.6751\n",
      "INFO:smac.intensification.intensification.Intensifier:Updated estimated cost of incumbent on 1 runs: 0.6751\n",
      "INFO:smac.intensification.intensification.Intensifier:Updated estimated cost of incumbent on 1 runs: 0.6751\n",
      "INFO:smac.intensification.intensification.Intensifier:Updated estimated cost of incumbent on 1 runs: 0.6751\n",
      "INFO:smac.intensification.intensification.Intensifier:Updated estimated cost of incumbent on 1 runs: 0.6751\n",
      "INFO:smac.intensification.intensification.Intensifier:Updated estimated cost of incumbent on 1 runs: 0.6751\n",
      "INFO:smac.intensification.intensification.Intensifier:Updated estimated cost of incumbent on 1 runs: 0.6751\n",
      "INFO:smac.intensification.intensification.Intensifier:Updated estimated cost of incumbent on 1 runs: 0.6751\n",
      "INFO:smac.intensification.intensification.Intensifier:Updated estimated cost of incumbent on 1 runs: 0.6751\n",
      "INFO:smac.intensification.intensification.Intensifier:Updated estimated cost of incumbent on 1 runs: 0.6751\n",
      "INFO:smac.intensification.intensification.Intensifier:Updated estimated cost of incumbent on 1 runs: 0.6751\n",
      "INFO:smac.intensification.intensification.Intensifier:Updated estimated cost of incumbent on 1 runs: 0.6751\n",
      "INFO:smac.intensification.intensification.Intensifier:Updated estimated cost of incumbent on 1 runs: 0.6751\n",
      "INFO:smac.intensification.intensification.Intensifier:Updated estimated cost of incumbent on 1 runs: 0.6751\n",
      "INFO:smac.intensification.intensification.Intensifier:Updated estimated cost of incumbent on 1 runs: 0.6751\n",
      "INFO:smac.intensification.intensification.Intensifier:Updated estimated cost of incumbent on 1 runs: 0.6751\n",
      "INFO:smac.intensification.intensification.Intensifier:Updated estimated cost of incumbent on 1 runs: 0.6751\n",
      "INFO:smac.intensification.intensification.Intensifier:Updated estimated cost of incumbent on 1 runs: 0.6751\n",
      "INFO:smac.intensification.intensification.Intensifier:Updated estimated cost of incumbent on 1 runs: 0.6751\n",
      "INFO:smac.intensification.intensification.Intensifier:Updated estimated cost of incumbent on 1 runs: 0.6751\n",
      "INFO:smac.intensification.intensification.Intensifier:Updated estimated cost of incumbent on 1 runs: 0.6751\n",
      "INFO:smac.intensification.intensification.Intensifier:Updated estimated cost of incumbent on 1 runs: 0.6751\n",
      "INFO:smac.intensification.intensification.Intensifier:Updated estimated cost of incumbent on 1 runs: 0.6751\n",
      "INFO:smac.intensification.intensification.Intensifier:Updated estimated cost of incumbent on 1 runs: 0.6751\n",
      "INFO:smac.intensification.intensification.Intensifier:Updated estimated cost of incumbent on 1 runs: 0.6751\n",
      "INFO:smac.intensification.intensification.Intensifier:Updated estimated cost of incumbent on 1 runs: 0.6751\n",
      "INFO:smac.intensification.intensification.Intensifier:Updated estimated cost of incumbent on 1 runs: 0.6751\n",
      "INFO:smac.intensification.intensification.Intensifier:Updated estimated cost of incumbent on 1 runs: 0.6751\n",
      "INFO:smac.intensification.intensification.Intensifier:Updated estimated cost of incumbent on 1 runs: 0.6751\n",
      "INFO:smac.intensification.intensification.Intensifier:Updated estimated cost of incumbent on 1 runs: 0.6751\n",
      "INFO:smac.intensification.intensification.Intensifier:Updated estimated cost of incumbent on 1 runs: 0.6751\n",
      "INFO:smac.intensification.intensification.Intensifier:Updated estimated cost of incumbent on 1 runs: 0.6751\n",
      "INFO:smac.intensification.intensification.Intensifier:Updated estimated cost of incumbent on 1 runs: 0.6751\n",
      "INFO:smac.intensification.intensification.Intensifier:Updated estimated cost of incumbent on 1 runs: 0.6751\n",
      "INFO:smac.intensification.intensification.Intensifier:Updated estimated cost of incumbent on 1 runs: 0.6751\n",
      "INFO:smac.intensification.intensification.Intensifier:Updated estimated cost of incumbent on 1 runs: 0.6751\n",
      "INFO:smac.intensification.intensification.Intensifier:Updated estimated cost of incumbent on 1 runs: 0.6751\n",
      "INFO:smac.intensification.intensification.Intensifier:Updated estimated cost of incumbent on 1 runs: 0.6751\n",
      "INFO:smac.intensification.intensification.Intensifier:Updated estimated cost of incumbent on 1 runs: 0.6751\n",
      "INFO:smac.intensification.intensification.Intensifier:Updated estimated cost of incumbent on 1 runs: 0.6751\n",
      "INFO:smac.intensification.intensification.Intensifier:Updated estimated cost of incumbent on 1 runs: 0.6751\n",
      "INFO:smac.intensification.intensification.Intensifier:Updated estimated cost of incumbent on 1 runs: 0.6751\n",
      "INFO:smac.intensification.intensification.Intensifier:Updated estimated cost of incumbent on 1 runs: 0.6751\n",
      "INFO:smac.intensification.intensification.Intensifier:Updated estimated cost of incumbent on 1 runs: 0.6751\n",
      "INFO:smac.intensification.intensification.Intensifier:Updated estimated cost of incumbent on 1 runs: 0.6751\n",
      "INFO:smac.intensification.intensification.Intensifier:Updated estimated cost of incumbent on 1 runs: 0.6751\n",
      "INFO:smac.intensification.intensification.Intensifier:Updated estimated cost of incumbent on 1 runs: 0.6751\n",
      "INFO:smac.intensification.intensification.Intensifier:Updated estimated cost of incumbent on 1 runs: 0.6751\n",
      "INFO:smac.intensification.intensification.Intensifier:Updated estimated cost of incumbent on 1 runs: 0.6751\n",
      "INFO:smac.intensification.intensification.Intensifier:Updated estimated cost of incumbent on 1 runs: 0.6751\n",
      "INFO:smac.intensification.intensification.Intensifier:Updated estimated cost of incumbent on 1 runs: 0.6751\n"
     ]
    },
    {
     "name": "stderr",
     "output_type": "stream",
     "text": [
      "INFO:smac.intensification.intensification.Intensifier:Updated estimated cost of incumbent on 1 runs: 0.6751\n",
      "INFO:smac.intensification.intensification.Intensifier:Updated estimated cost of incumbent on 1 runs: 0.6751\n",
      "INFO:smac.intensification.intensification.Intensifier:Updated estimated cost of incumbent on 1 runs: 0.6751\n",
      "INFO:smac.intensification.intensification.Intensifier:Updated estimated cost of incumbent on 1 runs: 0.6751\n",
      "INFO:smac.intensification.intensification.Intensifier:Updated estimated cost of incumbent on 1 runs: 0.6751\n",
      "INFO:smac.intensification.intensification.Intensifier:Updated estimated cost of incumbent on 1 runs: 0.6751\n",
      "INFO:smac.intensification.intensification.Intensifier:Updated estimated cost of incumbent on 1 runs: 0.6751\n",
      "INFO:smac.intensification.intensification.Intensifier:Updated estimated cost of incumbent on 1 runs: 0.6751\n",
      "INFO:smac.intensification.intensification.Intensifier:Updated estimated cost of incumbent on 1 runs: 0.6751\n",
      "INFO:smac.intensification.intensification.Intensifier:Updated estimated cost of incumbent on 1 runs: 0.6751\n",
      "INFO:smac.intensification.intensification.Intensifier:Updated estimated cost of incumbent on 1 runs: 0.6751\n",
      "INFO:smac.intensification.intensification.Intensifier:Updated estimated cost of incumbent on 1 runs: 0.6751\n",
      "INFO:smac.intensification.intensification.Intensifier:Updated estimated cost of incumbent on 1 runs: 0.6751\n",
      "INFO:smac.intensification.intensification.Intensifier:Updated estimated cost of incumbent on 1 runs: 0.6751\n",
      "INFO:smac.intensification.intensification.Intensifier:Updated estimated cost of incumbent on 1 runs: 0.6751\n",
      "INFO:smac.intensification.intensification.Intensifier:Updated estimated cost of incumbent on 1 runs: 0.6751\n",
      "INFO:smac.intensification.intensification.Intensifier:Updated estimated cost of incumbent on 1 runs: 0.6751\n",
      "INFO:smac.intensification.intensification.Intensifier:Updated estimated cost of incumbent on 1 runs: 0.6751\n",
      "INFO:smac.intensification.intensification.Intensifier:Updated estimated cost of incumbent on 1 runs: 0.6751\n",
      "INFO:smac.intensification.intensification.Intensifier:Updated estimated cost of incumbent on 1 runs: 0.6751\n",
      "INFO:smac.intensification.intensification.Intensifier:Updated estimated cost of incumbent on 1 runs: 0.6751\n",
      "INFO:smac.intensification.intensification.Intensifier:Updated estimated cost of incumbent on 1 runs: 0.6751\n",
      "INFO:smac.intensification.intensification.Intensifier:Updated estimated cost of incumbent on 1 runs: 0.6751\n",
      "INFO:smac.intensification.intensification.Intensifier:Updated estimated cost of incumbent on 1 runs: 0.6751\n",
      "INFO:smac.intensification.intensification.Intensifier:Updated estimated cost of incumbent on 1 runs: 0.6751\n",
      "INFO:smac.intensification.intensification.Intensifier:Updated estimated cost of incumbent on 1 runs: 0.6751\n",
      "INFO:smac.intensification.intensification.Intensifier:Updated estimated cost of incumbent on 1 runs: 0.6751\n",
      "INFO:smac.intensification.intensification.Intensifier:Updated estimated cost of incumbent on 1 runs: 0.6751\n",
      "INFO:smac.intensification.intensification.Intensifier:Updated estimated cost of incumbent on 1 runs: 0.6751\n",
      "INFO:smac.intensification.intensification.Intensifier:Updated estimated cost of incumbent on 1 runs: 0.6751\n",
      "INFO:smac.intensification.intensification.Intensifier:Updated estimated cost of incumbent on 1 runs: 0.6751\n",
      "INFO:smac.intensification.intensification.Intensifier:Updated estimated cost of incumbent on 1 runs: 0.6751\n",
      "INFO:smac.intensification.intensification.Intensifier:Updated estimated cost of incumbent on 1 runs: 0.6751\n",
      "INFO:smac.intensification.intensification.Intensifier:Updated estimated cost of incumbent on 1 runs: 0.6751\n",
      "INFO:smac.intensification.intensification.Intensifier:Updated estimated cost of incumbent on 1 runs: 0.6751\n",
      "INFO:smac.intensification.intensification.Intensifier:Updated estimated cost of incumbent on 1 runs: 0.6751\n",
      "INFO:smac.intensification.intensification.Intensifier:Updated estimated cost of incumbent on 1 runs: 0.6751\n",
      "INFO:smac.intensification.intensification.Intensifier:Updated estimated cost of incumbent on 1 runs: 0.6751\n",
      "INFO:smac.intensification.intensification.Intensifier:Updated estimated cost of incumbent on 1 runs: 0.6751\n",
      "INFO:smac.intensification.intensification.Intensifier:Updated estimated cost of incumbent on 1 runs: 0.6751\n",
      "INFO:smac.intensification.intensification.Intensifier:Updated estimated cost of incumbent on 1 runs: 0.6751\n",
      "INFO:smac.intensification.intensification.Intensifier:Updated estimated cost of incumbent on 1 runs: 0.6751\n",
      "INFO:smac.intensification.intensification.Intensifier:Updated estimated cost of incumbent on 1 runs: 0.6751\n"
     ]
    }
   ],
   "source": [
    "smac.optimize()"
   ]
  },
  {
   "cell_type": "code",
   "execution_count": 7,
   "metadata": {},
   "outputs": [],
   "source": [
    "from pimp.pimp import PIMP"
   ]
  },
  {
   "cell_type": "code",
   "execution_count": 8,
   "metadata": {
    "scrolled": false
   },
   "outputs": [
    {
     "name": "stderr",
     "output_type": "stream",
     "text": [
      "INFO:Importance:Combined number of Runhistory data points: 500\n",
      "INFO:Importance:Number of Configurations: 500\n",
      "INFO:Importance:Converting Data and constructing Model\n",
      "INFO:Importance:Using model <smac.epm.rf_with_instances.RandomForestWithInstances object at 0x7f13eb6c0c18>\n",
      "INFO:Importance:Size of training X: (500, 2)\n",
      "INFO:Importance:Size of training y: (500, 1)\n",
      "INFO:Importance:Data was not imputed\n",
      "INFO:Importance:Thus the size of X might be smaller than the datapoints in the RunHistory\n",
      "INFO:Importance:Fitting Model\n",
      "INFO:Importance:Best incumbent found in None\n",
      "INFO:Importance:Running ablation\n",
      "INFO:Importance:Setting up Evaluation Method\n",
      "INFO:Importance:Using model <smac.epm.rf_with_instances.RandomForestWithInstances object at 0x7f13eb6c0c18>\n",
      "INFO:Importance:X shape (500, 2)\n",
      "INFO:Ablation:Difference in source and target: 2\n",
      "INFO:Ablation:Round  1 winner(s): (['x1'], 85.1027)\n",
      "INFO:Ablation:Round  2 winner(s): (['x2'], 14.8973)\n",
      "INFO:Importance:Running forward-selection\n",
      "INFO:Importance:Setting up Evaluation Method\n",
      "INFO:Importance:Using model <smac.epm.rf_with_instances.RandomForestWithInstances object at 0x7f13eb6c0c18>\n",
      "INFO:Forward Selection:Not alyzing feature importance\n",
      "x2: 18.9025 (OOB): 100%|##########| 2/2 [00:00<00:00, 72.33it/s]\n",
      "INFO:Importance:Running fanova\n",
      "INFO:Importance:Setting up Evaluation Method\n",
      "INFO:Importance:Using model <smac.epm.rf_with_instances.RandomForestWithInstances object at 0x7f13eb6c0c18>\n",
      "INFO:Importance:X shape (500, 2)\n",
      "INFO:fANOVA:No preprocessing necessary\n",
      "INFO:fANOVA:00 x1                            : 0.6491\n",
      "INFO:fANOVA:01 x2                            : 0.0826\n",
      "INFO:fANOVA:Computing most important pairwise marginals using at most the 2 most important ones.\n",
      "INFO:fANOVA:-1 x1 <> x2                      : 0.2683\n",
      "INFO:Importance:Running incneighbor\n",
      "INFO:Importance:Setting up Evaluation Method\n",
      "INFO:Importance:Using model <smac.epm.rf_with_instances.RandomForestWithInstances object at 0x7f13eb6c0c18>\n",
      "INFO:Importance:X shape (500, 2)\n",
      "INFO:IncNeighbor:Sampling neighborhood of x1\n",
      "INFO:IncNeighbor:--------------------------------------------------> Found 500 valid neighbors\n",
      "INFO:IncNeighbor:Sampling neighborhood of x2\n",
      "INFO:IncNeighbor:--------------------------------------------------> Found 500 valid neighbors\n",
      "Predicting performances for neighbors of x2:  75%|#######5  | 754/1002 [00:00<00:00, 7535.05it/s]INFO:IncNeighbor:                                       perf impro       ,         variance         \n",
      "INFO:IncNeighbor:Parameter                     : [  Mean, Median,    Max],  p_var,  t_var,   frac\n",
      "INFO:IncNeighbor:--------------------------------------------------------------------------------\n",
      "INFO:IncNeighbor:x1                            : [ 57.21,  23.59, 247.28], 1896.76, 1781.24,  53.80\n",
      "INFO:IncNeighbor:x2                            : [ 70.96,  54.80, 213.17], 1628.79, 1781.24,  46.20\n",
      "Predicting performances for neighbors of x2: 100%|##########| 1002/1002 [00:00<00:00, 7063.99it/s]\n"
     ]
    }
   ],
   "source": [
    "pimp = PIMP(scenario, smac, mode='all')\n",
    "result = pimp.compute_importances()"
   ]
  },
  {
   "cell_type": "code",
   "execution_count": 9,
   "metadata": {
    "scrolled": true
   },
   "outputs": [
    {
     "name": "stderr",
     "output_type": "stream",
     "text": [
      "Plotting results for x2: 100%|##########| 2/2 [00:03<00:00,  1.51s/it]\n"
     ]
    }
   ],
   "source": [
    "%matplotlib inline\n",
    "pimp.plot_results(result=result, show=True, save_table=False)"
   ]
  },
  {
   "cell_type": "code",
   "execution_count": 10,
   "metadata": {},
   "outputs": [
    {
     "name": "stdout",
     "output_type": "stream",
     "text": [
      "(500, 2)\n",
      "None\n"
     ]
    }
   ],
   "source": [
    "import copy\n",
    "\n",
    "X = copy.deepcopy(pimp.imp.model.X)\n",
    "y = copy.deepcopy(pimp.imp.model.y)\n",
    "print(X.shape)\n",
    "print(scenario.feature_array)"
   ]
  },
  {
   "cell_type": "code",
   "execution_count": 13,
   "metadata": {
    "scrolled": false
   },
   "outputs": [
    {
     "name": "stderr",
     "output_type": "stream",
     "text": [
      "INFO:smac.scenario.scenario.Scenario:Reading scenario file: branin_scenario.txt\n",
      "INFO:smac.scenario.scenario.Scenario:Output to smac3-output_2018-01-11_17:56:28_059571\n",
      "INFO:Importance:Combined number of Runhistory data points: 500\n",
      "INFO:Importance:Number of Configurations: 500\n",
      "INFO:Importance:Converting Data and constructing Model\n",
      "INFO:Importance:Using model <smac.epm.rf_with_instances.RandomForestWithInstances object at 0x7f13e834c668>\n",
      "INFO:Importance:Size of training X: (500, 2)\n",
      "INFO:Importance:Size of training y: (500, 1)\n",
      "INFO:Importance:Data was not imputed\n",
      "INFO:Importance:Thus the size of X might be smaller than the datapoints in the RunHistory\n",
      "INFO:Importance:Fitting Model\n",
      "INFO:Importance:Best incumbent found in None\n",
      "INFO:Importance:Running ablation\n",
      "INFO:Importance:Setting up Evaluation Method\n",
      "INFO:Importance:Using model <smac.epm.rf_with_instances.RandomForestWithInstances object at 0x7f13e834c668>\n",
      "INFO:Importance:X shape (500, 2)\n",
      "INFO:Ablation:Difference in source and target: 2\n",
      "INFO:Ablation:Round  1 winner(s): (['x2'], 64.6048)\n",
      "INFO:Ablation:Round  2 winner(s): (['x1'], 35.3952)\n",
      "INFO:Importance:Running forward-selection\n",
      "INFO:Importance:Setting up Evaluation Method\n",
      "INFO:Importance:Using model <smac.epm.rf_with_instances.RandomForestWithInstances object at 0x7f13e834c668>\n",
      "INFO:Forward Selection:Not alyzing feature importance\n",
      "x2: 19.0909 (OOB): 100%|##########| 2/2 [00:00<00:00, 58.78it/s]\n",
      "INFO:Importance:Running fanova\n",
      "INFO:Importance:Setting up Evaluation Method\n",
      "INFO:Importance:Using model <smac.epm.rf_with_instances.RandomForestWithInstances object at 0x7f13e834c668>\n",
      "INFO:Importance:X shape (500, 2)\n",
      "INFO:fANOVA:No preprocessing necessary\n"
     ]
    },
    {
     "name": "stdout",
     "output_type": "stream",
     "text": [
      "(500, 2)\n",
      "(500,)\n"
     ]
    },
    {
     "name": "stderr",
     "output_type": "stream",
     "text": [
      "INFO:fANOVA:00 x1                            : 0.6096\n",
      "INFO:fANOVA:01 x2                            : 0.1251\n",
      "INFO:fANOVA:Computing most important pairwise marginals using at most the 2 most important ones.\n",
      "INFO:fANOVA:-1 x1 <> x2                      : 0.2653\n",
      "INFO:Importance:Running incneighbor\n",
      "INFO:Importance:Setting up Evaluation Method\n",
      "INFO:Importance:Using model <smac.epm.rf_with_instances.RandomForestWithInstances object at 0x7f13e834c668>\n",
      "INFO:Importance:X shape (500, 2)\n",
      "INFO:IncNeighbor:Sampling neighborhood of x1\n",
      "INFO:IncNeighbor:--------------------------------------------------> Found 500 valid neighbors\n",
      "INFO:IncNeighbor:Sampling neighborhood of x2\n",
      "INFO:IncNeighbor:--------------------------------------------------> Found 500 valid neighbors\n",
      "Predicting performances for neighbors of x2:  55%|#####4    | 551/1002 [00:00<00:00, 5508.55it/s]INFO:IncNeighbor:                                       perf impro       ,         variance         \n",
      "INFO:IncNeighbor:Parameter                     : [  Mean, Median,    Max],  p_var,  t_var,   frac\n",
      "INFO:IncNeighbor:--------------------------------------------------------------------------------\n",
      "INFO:IncNeighbor:x1                            : [ 55.21,  24.49, 227.62], 1630.91, 1616.05,  50.92\n",
      "INFO:IncNeighbor:x2                            : [ 67.45,  52.45, 206.74], 1571.70, 1616.05,  49.08\n",
      "Predicting performances for neighbors of x2: 100%|##########| 1002/1002 [00:00<00:00, 5965.34it/s]\n",
      "Plotting results for x2: 100%|##########| 2/2 [00:00<00:00,  3.01it/s]\n"
     ]
    }
   ],
   "source": [
    "%matplotlib inline\n",
    "scenario = Scenario('branin_scenario.txt')\n",
    "pimp = PIMP(scenario, X=X, y=y, mode='all')\n",
    "print(pimp.X.shape)\n",
    "print(pimp.y.shape)\n",
    "result = pimp.compute_importances()\n",
    "pimp.plot_results(result=result, show=True, save_table=False)"
   ]
  }
 ],
 "metadata": {
  "kernelspec": {
   "display_name": "pimp",
   "language": "python",
   "name": "pimp"
  },
  "language_info": {
   "codemirror_mode": {
    "name": "ipython",
    "version": 3
   },
   "file_extension": ".py",
   "mimetype": "text/x-python",
   "name": "python",
   "nbconvert_exporter": "python",
   "pygments_lexer": "ipython3",
   "version": "3.5.2"
  }
 },
 "nbformat": 4,
 "nbformat_minor": 1
}
